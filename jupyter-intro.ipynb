{
 "cells": [
  {
   "cell_type": "markdown",
   "metadata": {
    "slideshow": {
     "slide_type": "slide"
    }
   },
   "source": [
    "# Jupyter Notebook Intro"
   ]
  },
  {
   "cell_type": "markdown",
   "metadata": {
    "livereveal": {
     "height": 1600,
     "width": 2560
    }
   },
   "source": [
    "  "
   ]
  },
  {
   "cell_type": "markdown",
   "metadata": {
    "slideshow": {
     "slide_type": "fragment"
    }
   },
   "source": [
    "<img src=\"http://imgs.xkcd.com/comics/python.png\" style=\"min-height:400px;height:0.8vh;margin:auto;\">"
   ]
  },
  {
   "cell_type": "markdown",
   "metadata": {
    "slideshow": {
     "slide_type": "fragment"
    }
   },
   "source": [
    "```python\n",
    "import antigravity\n",
    "```"
   ]
  },
  {
   "cell_type": "markdown",
   "metadata": {
    "slideshow": {
     "slide_type": "slide"
    }
   },
   "source": [
    "## General Info\n",
    "\n",
    "`Jupyter notebooks` = the notebook front-end (and more), used to be IPython notebooks, but can do much more. Can also run other Kernels, like `Julia`, `R`, ..., but we'll focus on the python+notebook features.\n",
    "\n",
    "Think of a notebook as a script that you can execute step-by-step (or in different order). Just another way (like a console) to talk to the `Kernel`/Namespace. You can even do both at once."
   ]
  },
  {
   "cell_type": "markdown",
   "metadata": {
    "slideshow": {
     "slide_type": "subslide"
    }
   },
   "source": [
    "Useful for:\n",
    "\n",
    "- slides (see also the [RISE-Extensions](https://github.com/damianavila/RISE))\n",
    "- (live) lectures\n",
    "- ... even books"
   ]
  },
  {
   "cell_type": "markdown",
   "metadata": {
    "slideshow": {
     "slide_type": "fragment"
    }
   },
   "source": [
    "Can also run/convert a notebook with \n",
    "\n",
    "    jupyter nbconvert --execute <notebook>\n",
    "    jupyter nbconvert --to python <notebook>"
   ]
  },
  {
   "cell_type": "markdown",
   "metadata": {
    "slideshow": {
     "slide_type": "subslide"
    }
   },
   "source": [
    "## More information"
   ]
  },
  {
   "cell_type": "markdown",
   "metadata": {},
   "source": [
    "Follow along: <http://goo.gl/xLbtwq>\n",
    "\n",
    "[![Binder](https://mybinder.org/badge.svg)](https://mybinder.org/v2/gh/birnstiel/jupyter-intro/master?filepath=jupyter-intro.ipynb)"
   ]
  },
  {
   "cell_type": "markdown",
   "metadata": {
    "slideshow": {
     "slide_type": "fragment"
    }
   },
   "source": [
    "Many Examples: <http://nb.bianp.net/sort/views/>\n",
    "\n",
    "Relevant for this week: [Star Wars API](http://nbviewer.jupyter.org/github/rasbt/pattern_classification/blob/master/data_viz/swapi_viz.ipynb)"
   ]
  },
  {
   "cell_type": "markdown",
   "metadata": {
    "slideshow": {
     "slide_type": "subslide"
    }
   },
   "source": [
    "## Connecting to a remote notebook server"
   ]
  },
  {
   "cell_type": "markdown",
   "metadata": {},
   "source": [
    "Remote machine (note port, like 8889 or set it with `--port=8889`):\n",
    "\n",
    "    jupyter notebook --no-browser\n",
    "\n",
    "Local machine (terminal): open a tunnel\n",
    "\n",
    "    ssh -N -f -L localhost:8888:localhost:8889 remote_user@remote_host\n",
    "    \n",
    "Local machine (browser):\n",
    "\n",
    "    localhost:8888"
   ]
  },
  {
   "cell_type": "markdown",
   "metadata": {
    "slideshow": {
     "slide_type": "slide"
    }
   },
   "source": [
    "### Markdown\n",
    "\n",
    "Markdown is great to mark up text without cluttering it.\n",
    "\n",
    "- You \n",
    "- can\n",
    "- do\n",
    "- lists"
   ]
  },
  {
   "cell_type": "markdown",
   "metadata": {
    "slideshow": {
     "slide_type": "subslide"
    }
   },
   "source": [
    "1. You\n",
    "2. can\n",
    "3. do\n",
    "3. numbered lists\n",
    "\n",
    "You can typeset $\\LaTeX$ or also `code`."
   ]
  },
  {
   "cell_type": "markdown",
   "metadata": {
    "slideshow": {
     "slide_type": "subslide"
    }
   },
   "source": [
    "For example python\n",
    "\n",
    "```python\n",
    "def hello_world():\n",
    "    print('Hello, world!')\n",
    "```"
   ]
  },
  {
   "cell_type": "markdown",
   "metadata": {
    "slideshow": {
     "slide_type": "subslide"
    }
   },
   "source": [
    "Or Fortran\n",
    "\n",
    "```fortran\n",
    "program main\n",
    "implicit none\n",
    "write(*,*) 'Hello, world!'\n",
    "end program main\n",
    "```"
   ]
  },
  {
   "cell_type": "markdown",
   "metadata": {
    "slideshow": {
     "slide_type": "subslide"
    }
   },
   "source": [
    "### Tables\n",
    "\n",
    "| Number |  Text  |\n",
    "| :----: | :----- |\n",
    "|    1   |  one   |\n",
    "|    2   |  two   |\n",
    "|    3   |  three |"
   ]
  },
  {
   "cell_type": "markdown",
   "metadata": {
    "slideshow": {
     "slide_type": "slide"
    }
   },
   "source": [
    "## Editing\n",
    "\n",
    "- select cell with arrow keys\n",
    "- press `Return` to edit it, escape to stop editing it\n",
    "- press `Ctrl+Return` to run cell in place\n",
    "- press `Shift+Return` to run and proceed"
   ]
  },
  {
   "cell_type": "code",
   "execution_count": 1,
   "metadata": {
    "collapsed": true
   },
   "outputs": [],
   "source": [
    "%matplotlib inline\n",
    "import numpy             as np\n",
    "import matplotlib.pyplot as plt"
   ]
  },
  {
   "cell_type": "code",
   "execution_count": 2,
   "metadata": {
    "slideshow": {
     "slide_type": "subslide"
    }
   },
   "outputs": [
    {
     "data": {
      "image/png": "[encoded data removed]",
      "text/plain": [
       "<matplotlib.figure.Figure at 0x1154db0f0>"
      ]
     },
     "metadata": {},
     "output_type": "display_data"
    }
   ],
   "source": [
    "from matplotlib.pyplot import xkcd\n",
    "with xkcd():\n",
    "    f,ax=plt.subplots()\n",
    "    ax.plot(np.sin(np.linspace(0,2*np.pi,100)))\n",
    "    ax.set_xlabel('x',fontsize=16)\n",
    "    ax.set_ylabel('sin(x)',fontsize=16)"
   ]
  },
  {
   "cell_type": "markdown",
   "metadata": {
    "slideshow": {
     "slide_type": "subslide"
    }
   },
   "source": [
    "## Editing (cont.)\n",
    "\n",
    "- in edit mode:\n",
    "    - **`h` for help**\n",
    "    - `a` to add cell above\n",
    "    - `b` to add cell below\n",
    "- selected cell:\n",
    "    - `m` to Markdown\n",
    "    - `y` to code\n",
    "    - `l` turns on line numbers"
   ]
  },
  {
   "cell_type": "markdown",
   "metadata": {
    "slideshow": {
     "slide_type": "slide"
    }
   },
   "source": [
    "## Misc Stuff"
   ]
  },
  {
   "cell_type": "code",
   "execution_count": 3,
   "metadata": {
    "slideshow": {
     "slide_type": "subslide"
    }
   },
   "outputs": [
    {
     "data": {
      "text/html": [
       "<div style=\"text-align:center; width:50%; margin:auto;\">\n",
       "<h2>Whoa, Jupyter can render HTML!</h2>\n",
       "<!-- <iframe src=\"https://giphy.com/embed/kBxxT2NqezJXW\" width=\"480\" height=\"384\" frameBorder=\"0\" class=\"giphy-embed\" allowFullScreen></iframe><p><a href=\"https://giphy.com/gifs/secretsandliesedit-kBxxT2NqezJXW\">via GIPHY</a></p> -->\n",
       "<img src=\"https://media.giphy.com/media/kBxxT2NqezJXW/giphy.gif\" width=\"100%\"</img>\n",
       "</div>"
      ],
      "text/plain": [
       "<IPython.core.display.HTML object>"
      ]
     },
     "metadata": {},
     "output_type": "display_data"
    }
   ],
   "source": [
    "%%HTML\n",
    "<div style=\"text-align:center; width:50%; margin:auto;\">\n",
    "<h2>Whoa, Jupyter can render HTML!</h2>\n",
    "<!-- <iframe src=\"https://giphy.com/embed/kBxxT2NqezJXW\" width=\"480\" height=\"384\" frameBorder=\"0\" class=\"giphy-embed\" allowFullScreen></iframe><p><a href=\"https://giphy.com/gifs/secretsandliesedit-kBxxT2NqezJXW\">via GIPHY</a></p> -->\n",
    "<img src=\"https://media.giphy.com/media/kBxxT2NqezJXW/giphy.gif\" width=\"100%\"</img>\n",
    "</div>"
   ]
  },
  {
   "cell_type": "markdown",
   "metadata": {
    "slideshow": {
     "slide_type": "subslide"
    }
   },
   "source": [
    "### Show videos\n",
    "for whatever reason"
   ]
  },
  {
   "cell_type": "code",
   "execution_count": 4,
   "metadata": {},
   "outputs": [
    {
     "data": {
      "image/jpeg": "[encoded data removed]",
      "text/html": [
       "\n",
       "        <iframe\n",
       "            width=\"400\"\n",
       "            height=\"300\"\n",
       "            src=\"https://www.youtube.com/embed/vWkb7VahaXQ\"\n",
       "            frameborder=\"0\"\n",
       "            allowfullscreen\n",
       "        ></iframe>\n",
       "        "
      ],
      "text/plain": [
       "<IPython.lib.display.YouTubeVideo at 0x114882320>"
      ]
     },
     "execution_count": 4,
     "metadata": {},
     "output_type": "execute_result"
    }
   ],
   "source": [
    "from IPython.display import YouTubeVideo\n",
    "# a short video about using NumPy arrays, from Enthought\n",
    "YouTubeVideo('vWkb7VahaXQ')"
   ]
  },
  {
   "cell_type": "markdown",
   "metadata": {
    "slideshow": {
     "slide_type": "subslide"
    }
   },
   "source": [
    "### Profiling\n",
    "\n",
    "See also [here](http://pynash.org/2013/03/06/timing-and-profiling/)."
   ]
  },
  {
   "cell_type": "code",
   "execution_count": 5,
   "metadata": {},
   "outputs": [
    {
     "name": "stdout",
     "output_type": "stream",
     "text": [
      " "
     ]
    }
   ],
   "source": [
    "%%prun\n",
    "a = np.random.rand(int(1e7))\n",
    "a.sort()\n",
    "b = a.sum()"
   ]
  },
  {
   "cell_type": "markdown",
   "metadata": {
    "slideshow": {
     "slide_type": "subslide"
    }
   },
   "source": [
    "If you installed `line_profiler` (e.g. `conda install line_profiler`), you can do line-profiling. But need to load the extension first"
   ]
  },
  {
   "cell_type": "code",
   "execution_count": 6,
   "metadata": {
    "collapsed": true
   },
   "outputs": [],
   "source": [
    "%load_ext line_profiler\n",
    "import numpy as np\n",
    "\n",
    "def testfunc(n):\n",
    "    y = np.arange(n)\n",
    "    for i in range(n):\n",
    "        y[i] += i\n",
    "    y += y\n",
    "    print('done')\n",
    "    return y"
   ]
  },
  {
   "cell_type": "code",
   "execution_count": 7,
   "metadata": {
    "slideshow": {
     "slide_type": "subslide"
    }
   },
   "outputs": [
    {
     "name": "stdout",
     "output_type": "stream",
     "text": [
      "done\n"
     ]
    }
   ],
   "source": [
    "%lprun -f testfunc testfunc(10000)"
   ]
  },
  {
   "cell_type": "markdown",
   "metadata": {
    "slideshow": {
     "slide_type": "subslide"
    }
   },
   "source": [
    "### Bash"
   ]
  },
  {
   "cell_type": "markdown",
   "metadata": {},
   "source": [
    "run one bash command"
   ]
  },
  {
   "cell_type": "code",
   "execution_count": 8,
   "metadata": {
    "slideshow": {
     "slide_type": "-"
    }
   },
   "outputs": [
    {
     "name": "stdout",
     "output_type": "stream",
     "text": [
      "requirements.txt\r\n"
     ]
    }
   ],
   "source": [
    "!ls *.txt"
   ]
  },
  {
   "cell_type": "markdown",
   "metadata": {
    "slideshow": {
     "slide_type": "subslide"
    }
   },
   "source": [
    "more bash"
   ]
  },
  {
   "cell_type": "code",
   "execution_count": 9,
   "metadata": {},
   "outputs": [
    {
     "name": "stdout",
     "output_type": "stream",
     "text": [
      "requirements.txt\n"
     ]
    }
   ],
   "source": [
    "%%bash\n",
    "for i in *.txt; do\n",
    "    echo $i;\n",
    "done"
   ]
  },
  {
   "cell_type": "markdown",
   "metadata": {},
   "source": [
    "can also use  local variables with brackets"
   ]
  },
  {
   "cell_type": "code",
   "execution_count": 10,
   "metadata": {
    "collapsed": true
   },
   "outputs": [],
   "source": [
    "mask = '*.txt'"
   ]
  },
  {
   "cell_type": "code",
   "execution_count": 11,
   "metadata": {},
   "outputs": [
    {
     "name": "stdout",
     "output_type": "stream",
     "text": [
      "-rw-r--r--@ 1 birnstiel  staff  56 10 Dez 20:56 requirements.txt\r\n"
     ]
    }
   ],
   "source": [
    "!ls -l {mask}"
   ]
  },
  {
   "cell_type": "markdown",
   "metadata": {},
   "source": [
    "### Open a console in current workspace"
   ]
  },
  {
   "cell_type": "code",
   "execution_count": 12,
   "metadata": {
    "collapsed": true
   },
   "outputs": [],
   "source": [
    "%qtconsole"
   ]
  },
  {
   "cell_type": "markdown",
   "metadata": {
    "slideshow": {
     "slide_type": "slide"
    }
   },
   "source": [
    "## Writing Files"
   ]
  },
  {
   "cell_type": "markdown",
   "metadata": {},
   "source": [
    "writing to file \"by hand\""
   ]
  },
  {
   "cell_type": "markdown",
   "metadata": {
    "slideshow": {
     "slide_type": "notes"
    }
   },
   "source": [
    "<!--associate:\n",
    "x.dat\n",
    "y.dat\n",
    "z.dat\n",
    "#Z = np.cos(X*Y)+np.sin(X*Y)\n",
    "-->"
   ]
  },
  {
   "cell_type": "code",
   "execution_count": 13,
   "metadata": {},
   "outputs": [
    {
     "name": "stdout",
     "output_type": "stream",
     "text": [
      "Overwriting x.dat\n"
     ]
    }
   ],
   "source": [
    "%%file x.dat\n",
    "-5. -3.88888889 -2.77777778 -1.66666667 -0.55555556 0.55555556 1.66666667 2.77777778 3.8888888 5.        "
   ]
  },
  {
   "cell_type": "code",
   "execution_count": 14,
   "metadata": {
    "slideshow": {
     "slide_type": "subslide"
    }
   },
   "outputs": [
    {
     "name": "stdout",
     "output_type": "stream",
     "text": [
      "Overwriting y.dat\n"
     ]
    }
   ],
   "source": [
    "%%file y.dat\n",
    "-1. -0.89473684 -0.78947368 -0.68421053 -0.57894737  -0.47368421 -0.36842105 -0.26315789 -0.15789474 -0.05263158  0.05263158 0.15789474 0.26315789 0.36842105 0.47368421  0.57894737 0.68421053 0.78947368 0.89473684 1. "
   ]
  },
  {
   "cell_type": "code",
   "execution_count": 15,
   "metadata": {
    "slideshow": {
     "slide_type": "subslide"
    }
   },
   "outputs": [
    {
     "name": "stdout",
     "output_type": "stream",
     "text": [
      "Overwriting z.dat\n"
     ]
    }
   ],
   "source": [
    "%%file z.dat\n",
    "-6.75262e-01 -1.41319e+00 -5.78704e-01 8.99684e-01 1.37702e+00 3.22192e-01 -1.09113e+00 -1.29039e+00 -5.38712e-02 1.24259e+00\n",
    "-1.20809e+00 -1.27498e+00 -1.82188e-01 1.07632e+00 1.35584e+00 4.02123e-01 -9.17352e-01 -1.40243e+00 -6.11896e-01 7.35201e-01\n",
    "-1.41392e+00 -9.26094e-01 2.29793e-01 1.21991e+00 1.33002e+00 4.80679e-01 -7.15410e-01 -1.39542e+00 -1.06881e+00 2.88163e-02\n",
    "-1.23704e+00 -4.24172e-01 6.22268e-01 1.32606e+00 1.29965e+00 5.57592e-01 -4.91504e-01 -1.26995e+00 -1.34910e+00 -6.85368e-01\n",
    "-7.25329e-01 1.47843e-01 9.61919e-01 1.39149e+00 1.26484e+00 6.32599e-01 -2.52510e-01 -1.03668e+00 -1.40646e+00 -1.21404e+00\n",
    "-1.72905e-02 6.95428e-01 1.21991e+00 1.41420e+00 1.22570e+00 7.05442e-01 -5.76364e-03 -7.15410e-01 -1.23141e+00 -1.41411e+00\n",
    "6.95428e-01 1.12810e+00 1.37435e+00 1.39350e+00 1.18238e+00 7.75874e-01 2.41160e-01 -3.33406e-01 -8.52877e-01 -1.23141e+00\n",
    "1.21991e+00 1.37435e+00 1.41212e+00 1.33002e+00 1.13501e+00 8.43653e-01 4.80679e-01 7.69009e-02 -3.33406e-01 -7.15410e-01\n",
    "1.41420e+00 1.39350e+00 1.33002e+00 1.22570e+00 1.08376e+00 9.08548e-01 7.05442e-01 4.80679e-01 2.41160e-01 -5.76364e-03\n",
    "1.22570e+00 1.18238e+00 1.13501e+00 1.08376e+00 1.02881e+00 9.70337e-01 9.08548e-01 8.43653e-01 7.75874e-01 7.05442e-01\n",
    "7.05442e-01 7.75874e-01 8.43653e-01 9.08548e-01 9.70337e-01 1.02881e+00 1.08376e+00 1.13501e+00 1.18238e+00 1.22570e+00\n",
    "-5.76364e-03 2.41160e-01 4.80679e-01 7.05442e-01 9.08548e-01 1.08376e+00 1.22570e+00 1.33002e+00 1.39350e+00 1.41420e+00\n",
    "-7.15410e-01 -3.33406e-01 7.69009e-02 4.80679e-01 8.43653e-01 1.13501e+00 1.33002e+00 1.41212e+00 1.37435e+00 1.21991e+00\n",
    "-1.23141e+00 -8.52877e-01 -3.33406e-01 2.41160e-01 7.75874e-01 1.18238e+00 1.39350e+00 1.37435e+00 1.12810e+00 6.95428e-01\n",
    "-1.41411e+00 -1.23141e+00 -7.15410e-01 -5.76364e-03 7.05442e-01 1.22570e+00 1.41420e+00 1.21991e+00 6.95428e-01 -1.72905e-02\n",
    "-1.21404e+00 -1.40646e+00 -1.03668e+00 -2.52510e-01 6.32599e-01 1.26484e+00 1.39149e+00 9.61919e-01 1.47843e-01 -7.25329e-01\n",
    "-6.85368e-01 -1.34910e+00 -1.26995e+00 -4.91504e-01 5.57592e-01 1.29965e+00 1.32606e+00 6.22268e-01 -4.24172e-01 -1.23704e+00\n",
    "2.88163e-02 -1.06881e+00 -1.39542e+00 -7.15410e-01 4.80679e-01 1.33002e+00 1.21991e+00 2.29793e-01 -9.26094e-01 -1.41392e+00\n",
    "7.35201e-01 -6.11896e-01 -1.40243e+00 -9.17352e-01 4.02123e-01 1.35584e+00 1.07632e+00 -1.82188e-01 -1.27498e+00 -1.20809e+00\n",
    "1.24259e+00 -5.38712e-02 -1.29039e+00 -1.09113e+00 3.22192e-01 1.37702e+00 8.99684e-01 -5.78704e-01 -1.41319e+00 -6.75262e-01"
   ]
  },
  {
   "cell_type": "markdown",
   "metadata": {
    "slideshow": {
     "slide_type": "slide"
    }
   },
   "source": [
    "### Load files"
   ]
  },
  {
   "cell_type": "code",
   "execution_count": 16,
   "metadata": {
    "collapsed": true,
    "slideshow": {
     "slide_type": "-"
    }
   },
   "outputs": [],
   "source": [
    "x = np.loadtxt('x.dat')\n",
    "y = np.loadtxt('y.dat')\n",
    "z = np.loadtxt('z.dat')"
   ]
  },
  {
   "cell_type": "markdown",
   "metadata": {},
   "source": [
    "Could also save to `txt`:"
   ]
  },
  {
   "cell_type": "code",
   "execution_count": 17,
   "metadata": {
    "collapsed": true
   },
   "outputs": [],
   "source": [
    "np.savetxt('x.dat',x,fmt='%.6e')"
   ]
  },
  {
   "cell_type": "code",
   "execution_count": 18,
   "metadata": {},
   "outputs": [
    {
     "name": "stdout",
     "output_type": "stream",
     "text": [
      "-5.000000e+00\r\n",
      "-3.888889e+00\r\n",
      "-2.777778e+00\r\n",
      "-1.666667e+00\r\n",
      "-5.555556e-01\r\n",
      "5.555556e-01\r\n",
      "1.666667e+00\r\n",
      "2.777778e+00\r\n",
      "3.888889e+00\r\n",
      "5.000000e+00\r\n"
     ]
    }
   ],
   "source": [
    "%cat x.dat"
   ]
  },
  {
   "cell_type": "markdown",
   "metadata": {
    "slideshow": {
     "slide_type": "slide"
    }
   },
   "source": [
    "### Plot Contour"
   ]
  },
  {
   "cell_type": "code",
   "execution_count": 19,
   "metadata": {},
   "outputs": [
    {
     "data": {
      "image/png": "[encoded data removed]",
      "text/plain": [
       "<matplotlib.figure.Figure at 0x11dd0c9e8>"
      ]
     },
     "metadata": {},
     "output_type": "display_data"
    }
   ],
   "source": [
    "f,ax=plt.subplots()\n",
    "c=ax.contourf(x,y,z,cmap='viridis')\n",
    "ax.set_xlabel('x')\n",
    "ax.set_ylabel('y')\n",
    "cb=plt.colorbar(c)\n",
    "cb.set_label('z');"
   ]
  },
  {
   "cell_type": "markdown",
   "metadata": {
    "slideshow": {
     "slide_type": "slide"
    }
   },
   "source": [
    "## Import Fortran Routines"
   ]
  },
  {
   "cell_type": "markdown",
   "metadata": {},
   "source": [
    "Write a toy fortran code."
   ]
  },
  {
   "cell_type": "code",
   "execution_count": 20,
   "metadata": {
    "slideshow": {
     "slide_type": "-"
    }
   },
   "outputs": [
    {
     "name": "stdout",
     "output_type": "stream",
     "text": [
      "Overwriting fortrantest.f90\n"
     ]
    }
   ],
   "source": [
    "%%file fortrantest.f90\n",
    "subroutine test_fortran(N,a,b)  \n",
    "    implicit none  \n",
    "    integer, intent(in) :: N  \n",
    "    integer, intent(in) :: a  \n",
    "    doubleprecision, intent(inout) :: b(N,N)\n",
    "\n",
    "    b = a*b\n",
    "\n",
    "end subroutine test_fortran\n",
    "    \n",
    "doubleprecision function square(a)\n",
    "    implicit none\n",
    "    doubleprecision, intent(in) :: a\n",
    "    square = a**2\n",
    "end function square"
   ]
  },
  {
   "cell_type": "code",
   "execution_count": 21,
   "metadata": {
    "slideshow": {
     "slide_type": "subslide"
    }
   },
   "outputs": [
    {
     "name": "stdout",
     "output_type": "stream",
     "text": [
      "\u001b[39mrunning build\u001b[0m\n",
      "\u001b[39mrunning config_cc\u001b[0m\n",
      "\u001b[39munifing config_cc, config, build_clib, build_ext, build commands --compiler options\u001b[0m\n",
      "\u001b[39mrunning config_fc\u001b[0m\n",
      "\u001b[39munifing config_fc, config, build_clib, build_ext, build commands --fcompiler options\u001b[0m\n",
      "\u001b[39mrunning build_src\u001b[0m\n",
      "\u001b[39mbuild_src\u001b[0m\n",
      "\u001b[39mbuilding extension \"my_fortran_routine\" sources\u001b[0m\n",
      "\u001b[39mf2py options: []\u001b[0m\n",
      "\u001b[39mf2py:> /var/folders/r_/b16rpth9643dx5csqdw29wn40000gn/T/tmpuf7vicjf/src.macosx-10.7-x86_64-3.6/my_fortran_routinemodule.c\u001b[0m\n",
      "\u001b[39mcreating /var/folders/r_/b16rpth9643dx5csqdw29wn40000gn/T/tmpuf7vicjf/src.macosx-10.7-x86_64-3.6\u001b[0m\n",
      "Reading fortran codes...\n",
      "\tReading file 'fortrantest.f90' (format:free)\n",
      "Post-processing...\n",
      "\tBlock: my_fortran_routine\n",
      "\t\t\tBlock: test_fortran\n",
      "\t\t\tBlock: square\n",
      "Post-processing (stage 2)...\n",
      "Building modules...\n",
      "\tBuilding module \"my_fortran_routine\"...\n",
      "\t\tConstructing wrapper function \"test_fortran\"...\n",
      "\t\t  test_fortran(a,b,[n])\n",
      "\t\tCreating wrapper for Fortran function \"square\"(\"square\")...\n",
      "\t\tConstructing wrapper function \"square\"...\n",
      "\t\t  square = square(a)\n",
      "\tWrote C/API module \"my_fortran_routine\" to file \"/var/folders/r_/b16rpth9643dx5csqdw29wn40000gn/T/tmpuf7vicjf/src.macosx-10.7-x86_64-3.6/my_fortran_routinemodule.c\"\n",
      "\tFortran 77 wrappers are saved to \"/var/folders/r_/b16rpth9643dx5csqdw29wn40000gn/T/tmpuf7vicjf/src.macosx-10.7-x86_64-3.6/my_fortran_routine-f2pywrappers.f\"\n",
      "\u001b[39m  adding '/var/folders/r_/b16rpth9643dx5csqdw29wn40000gn/T/tmpuf7vicjf/src.macosx-10.7-x86_64-3.6/fortranobject.c' to sources.\u001b[0m\n",
      "\u001b[39m  adding '/var/folders/r_/b16rpth9643dx5csqdw29wn40000gn/T/tmpuf7vicjf/src.macosx-10.7-x86_64-3.6' to include_dirs.\u001b[0m\n",
      "\u001b[39mcopying /Users/birnstiel/anaconda3/lib/python3.6/site-packages/numpy/f2py/src/fortranobject.c -> /var/folders/r_/b16rpth9643dx5csqdw29wn40000gn/T/tmpuf7vicjf/src.macosx-10.7-x86_64-3.6\u001b[0m\n",
      "\u001b[39mcopying /Users/birnstiel/anaconda3/lib/python3.6/site-packages/numpy/f2py/src/fortranobject.h -> /var/folders/r_/b16rpth9643dx5csqdw29wn40000gn/T/tmpuf7vicjf/src.macosx-10.7-x86_64-3.6\u001b[0m\n",
      "\u001b[39m  adding '/var/folders/r_/b16rpth9643dx5csqdw29wn40000gn/T/tmpuf7vicjf/src.macosx-10.7-x86_64-3.6/my_fortran_routine-f2pywrappers.f' to sources.\u001b[0m\n",
      "\u001b[39mbuild_src: building npy-pkg config files\u001b[0m\n",
      "\u001b[39mrunning build_ext\u001b[0m\n",
      "\u001b[39mcustomize UnixCCompiler\u001b[0m\n",
      "\u001b[39mcustomize UnixCCompiler using build_ext\u001b[0m\n",
      "\u001b[39mcustomize Gnu95FCompiler\u001b[0m\n",
      "\u001b[39mFound executable /usr/local/bin/gfortran\u001b[0m\n",
      "\u001b[39mcustomize Gnu95FCompiler\u001b[0m\n",
      "\u001b[39mcustomize Gnu95FCompiler using build_ext\u001b[0m\n",
      "\u001b[39mbuilding 'my_fortran_routine' extension\u001b[0m\n",
      "\u001b[39mcompiling C sources\u001b[0m\n",
      "\u001b[39mC compiler: gcc -Wno-unused-result -Wsign-compare -Wunreachable-code -DNDEBUG -g -fwrapv -O3 -Wall -Wstrict-prototypes -I/Users/birnstiel/anaconda3/include -arch x86_64 -I/Users/birnstiel/anaconda3/include -arch x86_64\n",
      "\u001b[0m\n",
      "\u001b[39mcreating /var/folders/r_/b16rpth9643dx5csqdw29wn40000gn/T/tmpuf7vicjf/var\u001b[0m\n",
      "\u001b[39mcreating /var/folders/r_/b16rpth9643dx5csqdw29wn40000gn/T/tmpuf7vicjf/var/folders\u001b[0m\n",
      "\u001b[39mcreating /var/folders/r_/b16rpth9643dx5csqdw29wn40000gn/T/tmpuf7vicjf/var/folders/r_\u001b[0m\n",
      "\u001b[39mcreating /var/folders/r_/b16rpth9643dx5csqdw29wn40000gn/T/tmpuf7vicjf/var/folders/r_/b16rpth9643dx5csqdw29wn40000gn\u001b[0m\n",
      "\u001b[39mcreating /var/folders/r_/b16rpth9643dx5csqdw29wn40000gn/T/tmpuf7vicjf/var/folders/r_/b16rpth9643dx5csqdw29wn40000gn/T\u001b[0m\n",
      "\u001b[39mcreating /var/folders/r_/b16rpth9643dx5csqdw29wn40000gn/T/tmpuf7vicjf/var/folders/r_/b16rpth9643dx5csqdw29wn40000gn/T/tmpuf7vicjf\u001b[0m\n",
      "\u001b[39mcreating /var/folders/r_/b16rpth9643dx5csqdw29wn40000gn/T/tmpuf7vicjf/var/folders/r_/b16rpth9643dx5csqdw29wn40000gn/T/tmpuf7vicjf/src.macosx-10.7-x86_64-3.6\u001b[0m\n",
      "\u001b[39mcompile options: '-I/var/folders/r_/b16rpth9643dx5csqdw29wn40000gn/T/tmpuf7vicjf/src.macosx-10.7-x86_64-3.6 -I/Users/birnstiel/anaconda3/lib/python3.6/site-packages/numpy/core/include -I/Users/birnstiel/anaconda3/include/python3.6m -c'\u001b[0m\n",
      "\u001b[39mgcc: /var/folders/r_/b16rpth9643dx5csqdw29wn40000gn/T/tmpuf7vicjf/src.macosx-10.7-x86_64-3.6/my_fortran_routinemodule.c\u001b[0m\n",
      "In file included from /var/folders/r_/b16rpth9643dx5csqdw29wn40000gn/T/tmpuf7vicjf/src.macosx-10.7-x86_64-3.6/my_fortran_routinemodule.c:19:\n",
      "In file included from /var/folders/r_/b16rpth9643dx5csqdw29wn40000gn/T/tmpuf7vicjf/src.macosx-10.7-x86_64-3.6/fortranobject.h:13:\n",
      "In file included from /Users/birnstiel/anaconda3/lib/python3.6/site-packages/numpy/core/include/numpy/arrayobject.h:4:\n",
      "In file included from /Users/birnstiel/anaconda3/lib/python3.6/site-packages/numpy/core/include/numpy/ndarrayobject.h:18:\n",
      "In file included from /Users/birnstiel/anaconda3/lib/python3.6/site-packages/numpy/core/include/numpy/ndarraytypes.h:1809:\n",
      "/Users/birnstiel/anaconda3/lib/python3.6/site-packages/numpy/core/include/numpy/npy_1_7_deprecated_api.h:15:2: warning: \"Using deprecated NumPy API, disable it by \"          \"#defining NPY_NO_DEPRECATED_API NPY_1_7_API_VERSION\" [-W#warnings]\n",
      "#warning \"Using deprecated NumPy API, disable it by \" \\\n",
      " ^\n",
      "/var/folders/r_/b16rpth9643dx5csqdw29wn40000gn/T/tmpuf7vicjf/src.macosx-10.7-x86_64-3.6/my_fortran_routinemodule.c:147:12: warning: unused function 'f2py_size' [-Wunused-function]\n",
      "static int f2py_size(PyArrayObject* var, ...)\n",
      "           ^\n",
      "2 warnings generated.\n",
      "\u001b[39mgcc: /var/folders/r_/b16rpth9643dx5csqdw29wn40000gn/T/tmpuf7vicjf/src.macosx-10.7-x86_64-3.6/fortranobject.c\u001b[0m\n",
      "In file included from /var/folders/r_/b16rpth9643dx5csqdw29wn40000gn/T/tmpuf7vicjf/src.macosx-10.7-x86_64-3.6/fortranobject.c:2:\n",
      "In file included from /var/folders/r_/b16rpth9643dx5csqdw29wn40000gn/T/tmpuf7vicjf/src.macosx-10.7-x86_64-3.6/fortranobject.h:13:\n",
      "In file included from /Users/birnstiel/anaconda3/lib/python3.6/site-packages/numpy/core/include/numpy/arrayobject.h:4:\n",
      "In file included from /Users/birnstiel/anaconda3/lib/python3.6/site-packages/numpy/core/include/numpy/ndarrayobject.h:18:\n",
      "In file included from /Users/birnstiel/anaconda3/lib/python3.6/site-packages/numpy/core/include/numpy/ndarraytypes.h:1809:\n",
      "/Users/birnstiel/anaconda3/lib/python3.6/site-packages/numpy/core/include/numpy/npy_1_7_deprecated_api.h:15:2: warning: \"Using deprecated NumPy API, disable it by \"          \"#defining NPY_NO_DEPRECATED_API NPY_1_7_API_VERSION\" [-W#warnings]\n",
      "#warning \"Using deprecated NumPy API, disable it by \" \\\n",
      " ^\n",
      "/var/folders/r_/b16rpth9643dx5csqdw29wn40000gn/T/tmpuf7vicjf/src.macosx-10.7-x86_64-3.6/fortranobject.c:138:18: warning: comparison of integers of different signs: 'Py_ssize_t' (aka 'long') and 'unsigned long' [-Wsign-compare]\n",
      "        if (size < sizeof(notalloc)) {\n",
      "            ~~~~ ^ ~~~~~~~~~~~~~~~~\n",
      "2 warnings generated.\n",
      "\u001b[39mcompiling Fortran sources\u001b[0m\n",
      "\u001b[39mFortran f77 compiler: /usr/local/bin/gfortran -Wall -g -ffixed-form -fno-second-underscore -m64 -fPIC -O3 -funroll-loops\n",
      "Fortran f90 compiler: /usr/local/bin/gfortran -Wall -g -fno-second-underscore -m64 -fPIC -O3 -funroll-loops\n",
      "Fortran fix compiler: /usr/local/bin/gfortran -Wall -g -ffixed-form -fno-second-underscore -Wall -g -fno-second-underscore -m64 -fPIC -O3 -funroll-loops\u001b[0m\n",
      "\u001b[39mcompile options: '-I/var/folders/r_/b16rpth9643dx5csqdw29wn40000gn/T/tmpuf7vicjf/src.macosx-10.7-x86_64-3.6 -I/Users/birnstiel/anaconda3/lib/python3.6/site-packages/numpy/core/include -I/Users/birnstiel/anaconda3/include/python3.6m -c'\u001b[0m\n",
      "\u001b[39mgfortran:f90: fortrantest.f90\u001b[0m\n",
      "\u001b[39mgfortran:f77: /var/folders/r_/b16rpth9643dx5csqdw29wn40000gn/T/tmpuf7vicjf/src.macosx-10.7-x86_64-3.6/my_fortran_routine-f2pywrappers.f\u001b[0m\n",
      "\u001b[39m/usr/local/bin/gfortran -Wall -g -m64 -Wall -g -undefined dynamic_lookup -bundle /var/folders/r_/b16rpth9643dx5csqdw29wn40000gn/T/tmpuf7vicjf/var/folders/r_/b16rpth9643dx5csqdw29wn40000gn/T/tmpuf7vicjf/src.macosx-10.7-x86_64-3.6/my_fortran_routinemodule.o /var/folders/r_/b16rpth9643dx5csqdw29wn40000gn/T/tmpuf7vicjf/var/folders/r_/b16rpth9643dx5csqdw29wn40000gn/T/tmpuf7vicjf/src.macosx-10.7-x86_64-3.6/fortranobject.o /var/folders/r_/b16rpth9643dx5csqdw29wn40000gn/T/tmpuf7vicjf/fortrantest.o /var/folders/r_/b16rpth9643dx5csqdw29wn40000gn/T/tmpuf7vicjf/var/folders/r_/b16rpth9643dx5csqdw29wn40000gn/T/tmpuf7vicjf/src.macosx-10.7-x86_64-3.6/my_fortran_routine-f2pywrappers.o -L/usr/local/Cellar/gcc/7.2.0/lib/gcc/7/gcc/x86_64-apple-darwin17.0.0/7.2.0 -L/Users/birnstiel/anaconda3/lib -lgfortran -o ./my_fortran_routine.cpython-36m-darwin.so\u001b[0m\n"
     ]
    },
    {
     "name": "stdout",
     "output_type": "stream",
     "text": [
      "Removing build directory /var/folders/r_/b16rpth9643dx5csqdw29wn40000gn/T/tmpuf7vicjf\r\n"
     ]
    }
   ],
   "source": [
    "!f2py -c fortrantest.f90 -m my_fortran_routine"
   ]
  },
  {
   "cell_type": "markdown",
   "metadata": {
    "slideshow": {
     "slide_type": "subslide"
    }
   },
   "source": [
    "### Importing & Calling"
   ]
  },
  {
   "cell_type": "code",
   "execution_count": 22,
   "metadata": {
    "slideshow": {
     "slide_type": "-"
    }
   },
   "outputs": [
    {
     "name": "stdout",
     "output_type": "stream",
     "text": [
      "[[ 3.  3.  3.]\n",
      " [ 3.  3.  3.]\n",
      " [ 3.  3.  3.]]\n"
     ]
    }
   ],
   "source": [
    "import my_fortran_routine\n",
    "a=3\n",
    "b=np.asfortranarray(np.ones([3,3]))\n",
    "my_fortran_routine.test_fortran(a,b)\n",
    "print(b)"
   ]
  },
  {
   "cell_type": "code",
   "execution_count": null,
   "metadata": {
    "slideshow": {
     "slide_type": "fragment"
    }
   },
   "outputs": [
    {
     "data": {
      "text/plain": [
       "16.0"
      ]
     },
     "execution_count": 23,
     "metadata": {},
     "output_type": "execute_result"
    }
   ],
   "source": [
    "my_fortran_routine.square(4)"
   ]
  },
  {
   "cell_type": "markdown",
   "metadata": {
    "slideshow": {
     "slide_type": "slide"
    }
   },
   "source": [
    "## Open Notebook as `reveal.js` Slides"
   ]
  },
  {
   "cell_type": "code",
   "execution_count": null,
   "metadata": {
    "slideshow": {
     "slide_type": "-"
    }
   },
   "outputs": [
    {
     "name": "stdout",
     "output_type": "stream",
     "text": [
      "[NbConvertApp] Converting notebook jupyter-intro.ipynb to slides\n",
      "[NbConvertApp] Writing 287603 bytes to jupyter-intro.slides.html\n",
      "[NbConvertApp] Redirecting reveal.js requests to https://cdnjs.cloudflare.com/ajax/libs/reveal.js/3.5.0\n",
      "Serving your slides at http://127.0.0.1:8000/jupyter-intro.slides.html\n",
      "Use Control-C to stop this server\n",
      "WARNING:tornado.access:404 GET /custom.css (127.0.0.1) 1.80ms\n"
     ]
    }
   ],
   "source": [
    "!jupyter nbconvert jupyter-intro.ipynb --to slides --post serve"
   ]
  },
  {
   "cell_type": "markdown",
   "metadata": {
    "slideshow": {
     "slide_type": "slide"
    }
   },
   "source": [
    "## Thanks for your attention!"
   ]
  }
 ],
 "metadata": {
  "kernelspec": {
   "display_name": "Python 3",
   "language": "python",
   "name": "python3"
  },
  "language_info": {
   "codemirror_mode": {
    "name": "ipython",
    "version": 3
   },
   "file_extension": ".py",
   "mimetype": "text/x-python",
   "name": "python",
   "nbconvert_exporter": "python",
   "pygments_lexer": "ipython3",
   "version": "3.6.3"
  }
 },
 "nbformat": 4,
 "nbformat_minor": 1
}
