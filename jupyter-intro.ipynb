{
 "cells": [
  {
   "cell_type": "markdown",
   "metadata": {
    "slideshow": {
     "slide_type": "slide"
    }
   },
   "source": [
    "\n",
    "# Jupyter Notebook Intro"
   ]
  },
  {
   "cell_type": "markdown",
   "metadata": {
    "slideshow": {
     "slide_type": "slide"
    }
   },
   "source": [
    "## Markdown\n",
    "\n",
    "Markdown is great to mark up text without cluttering it.\n",
    "\n",
    "- You \n",
    "- can\n",
    "- do\n",
    "- lists"
   ]
  },
  {
   "cell_type": "markdown",
   "metadata": {
    "slideshow": {
     "slide_type": "subslide"
    }
   },
   "source": [
    "1. You\n",
    "2. can\n",
    "3. do\n",
    "3. numbered lists\n",
    "\n",
    "You can typeset $\\LaTeX$ or also `code`."
   ]
  },
  {
   "cell_type": "markdown",
   "metadata": {
    "slideshow": {
     "slide_type": "subslide"
    }
   },
   "source": [
    "For example python\n",
    "\n",
    "```python\n",
    "def hello_world():\n",
    "    print('Hello, world!')\n",
    "```"
   ]
  },
  {
   "cell_type": "markdown",
   "metadata": {
    "slideshow": {
     "slide_type": "subslide"
    }
   },
   "source": [
    "Or Fortran\n",
    "\n",
    "```fortran\n",
    "program main\n",
    "implicit none\n",
    "write(*,*) 'Hello, world!'\n",
    "end program main\n",
    "```"
   ]
  },
  {
   "cell_type": "markdown",
   "metadata": {
    "slideshow": {
     "slide_type": "subslide"
    }
   },
   "source": [
    "### Tables\n",
    "\n",
    "| Number |  Text  |\n",
    "| :----: | :----- |\n",
    "|    1   |  one   |\n",
    "|    2   |  two   |\n",
    "|    3   |  three |"
   ]
  },
  {
   "cell_type": "markdown",
   "metadata": {
    "slideshow": {
     "slide_type": "slide"
    }
   },
   "source": [
    "## Editing\n",
    "\n",
    "- select cell with arrow keys\n",
    "- press `Return` to edit it, escape to stop editing it\n",
    "- press `Ctrl+Return` to run cell in place\n",
    "- press `Shift+Return` to run and proceed"
   ]
  },
  {
   "cell_type": "code",
   "execution_count": null,
   "metadata": {
    "collapsed": false
   },
   "outputs": [],
   "source": [
    "%matplotlib inline\n",
    "import numpy             as np\n",
    "import matplotlib.pyplot as plt"
   ]
  },
  {
   "cell_type": "markdown",
   "metadata": {
    "slideshow": {
     "slide_type": "slide"
    }
   },
   "source": [
    "## Misc Stuff"
   ]
  },
  {
   "cell_type": "code",
   "execution_count": null,
   "metadata": {
    "collapsed": false,
    "slideshow": {
     "slide_type": "subslide"
    }
   },
   "outputs": [],
   "source": [
    "%%HTML\n",
    "<div style=\"text-align:center; width:50%; margin:auto;\">\n",
    "<h2>Whoa, Jupyter can render HTML!</h2>\n",
    "<img src=\"http://www.memegasms.com/media/created/vhyfxm.jpg\" style=\"margin:auto;width:75%;\"/>\n",
    "</div>"
   ]
  },
  {
   "cell_type": "markdown",
   "metadata": {
    "slideshow": {
     "slide_type": "subslide"
    }
   },
   "source": [
    "### Show videos\n",
    "for whatever reason"
   ]
  },
  {
   "cell_type": "code",
   "execution_count": null,
   "metadata": {
    "collapsed": false
   },
   "outputs": [],
   "source": [
    "from IPython.display import YouTubeVideo\n",
    "# a short video about using NumPy arrays, from Enthought\n",
    "YouTubeVideo('vWkb7VahaXQ')"
   ]
  },
  {
   "cell_type": "markdown",
   "metadata": {
    "slideshow": {
     "slide_type": "subslide"
    }
   },
   "source": [
    "### Profiling\n",
    "\n",
    "See also [here](http://pynash.org/2013/03/06/timing-and-profiling/)."
   ]
  },
  {
   "cell_type": "code",
   "execution_count": null,
   "metadata": {
    "collapsed": false
   },
   "outputs": [],
   "source": [
    "%%prun\n",
    "a = np.random.rand(int(1e7))\n",
    "a.sort()\n",
    "b = a.sum()"
   ]
  },
  {
   "cell_type": "markdown",
   "metadata": {
    "slideshow": {
     "slide_type": "subslide"
    }
   },
   "source": [
    "### Bash"
   ]
  },
  {
   "cell_type": "markdown",
   "metadata": {},
   "source": [
    "run one bash command"
   ]
  },
  {
   "cell_type": "code",
   "execution_count": null,
   "metadata": {
    "collapsed": false,
    "slideshow": {
     "slide_type": "-"
    }
   },
   "outputs": [],
   "source": [
    "!ls"
   ]
  },
  {
   "cell_type": "markdown",
   "metadata": {
    "slideshow": {
     "slide_type": "subslide"
    }
   },
   "source": [
    "more bash"
   ]
  },
  {
   "cell_type": "code",
   "execution_count": null,
   "metadata": {
    "collapsed": false
   },
   "outputs": [],
   "source": [
    "%%bash\n",
    "for i in *.*; do\n",
    "    echo $i;\n",
    "done"
   ]
  },
  {
   "cell_type": "markdown",
   "metadata": {},
   "source": [
    "### Open a console in current workspace"
   ]
  },
  {
   "cell_type": "code",
   "execution_count": null,
   "metadata": {
    "collapsed": true
   },
   "outputs": [],
   "source": [
    "%qtconsole"
   ]
  },
  {
   "cell_type": "markdown",
   "metadata": {
    "slideshow": {
     "slide_type": "slide"
    }
   },
   "source": [
    "## Writing Files"
   ]
  },
  {
   "cell_type": "markdown",
   "metadata": {},
   "source": [
    "writing to file \"by hand\""
   ]
  },
  {
   "cell_type": "markdown",
   "metadata": {
    "slideshow": {
     "slide_type": "notes"
    }
   },
   "source": [
    "<!--associate:\n",
    "x.dat\n",
    "y.dat\n",
    "z.dat\n",
    "#Z = np.cos(X*Y)+np.sin(X*Y)\n",
    "-->"
   ]
  },
  {
   "cell_type": "code",
   "execution_count": null,
   "metadata": {
    "collapsed": false
   },
   "outputs": [],
   "source": [
    "%%file x.dat\n",
    "-5. -3.88888889 -2.77777778 -1.66666667 -0.55555556 0.55555556 1.66666667 2.77777778 3.8888888 5.        "
   ]
  },
  {
   "cell_type": "code",
   "execution_count": null,
   "metadata": {
    "collapsed": false,
    "slideshow": {
     "slide_type": "subslide"
    }
   },
   "outputs": [],
   "source": [
    "%%file y.dat\n",
    "-1. -0.89473684 -0.78947368 -0.68421053 -0.57894737  -0.47368421 -0.36842105 -0.26315789 -0.15789474 -0.05263158  0.05263158 0.15789474 0.26315789 0.36842105 0.47368421  0.57894737 0.68421053 0.78947368 0.89473684 1. "
   ]
  },
  {
   "cell_type": "code",
   "execution_count": null,
   "metadata": {
    "collapsed": false,
    "slideshow": {
     "slide_type": "subslide"
    }
   },
   "outputs": [],
   "source": [
    "%%file z.dat\n",
    "-6.75262e-01 -1.41319e+00 -5.78704e-01 8.99684e-01 1.37702e+00 3.22192e-01 -1.09113e+00 -1.29039e+00 -5.38712e-02 1.24259e+00\n",
    "-1.20809e+00 -1.27498e+00 -1.82188e-01 1.07632e+00 1.35584e+00 4.02123e-01 -9.17352e-01 -1.40243e+00 -6.11896e-01 7.35201e-01\n",
    "-1.41392e+00 -9.26094e-01 2.29793e-01 1.21991e+00 1.33002e+00 4.80679e-01 -7.15410e-01 -1.39542e+00 -1.06881e+00 2.88163e-02\n",
    "-1.23704e+00 -4.24172e-01 6.22268e-01 1.32606e+00 1.29965e+00 5.57592e-01 -4.91504e-01 -1.26995e+00 -1.34910e+00 -6.85368e-01\n",
    "-7.25329e-01 1.47843e-01 9.61919e-01 1.39149e+00 1.26484e+00 6.32599e-01 -2.52510e-01 -1.03668e+00 -1.40646e+00 -1.21404e+00\n",
    "-1.72905e-02 6.95428e-01 1.21991e+00 1.41420e+00 1.22570e+00 7.05442e-01 -5.76364e-03 -7.15410e-01 -1.23141e+00 -1.41411e+00\n",
    "6.95428e-01 1.12810e+00 1.37435e+00 1.39350e+00 1.18238e+00 7.75874e-01 2.41160e-01 -3.33406e-01 -8.52877e-01 -1.23141e+00\n",
    "1.21991e+00 1.37435e+00 1.41212e+00 1.33002e+00 1.13501e+00 8.43653e-01 4.80679e-01 7.69009e-02 -3.33406e-01 -7.15410e-01\n",
    "1.41420e+00 1.39350e+00 1.33002e+00 1.22570e+00 1.08376e+00 9.08548e-01 7.05442e-01 4.80679e-01 2.41160e-01 -5.76364e-03\n",
    "1.22570e+00 1.18238e+00 1.13501e+00 1.08376e+00 1.02881e+00 9.70337e-01 9.08548e-01 8.43653e-01 7.75874e-01 7.05442e-01\n",
    "7.05442e-01 7.75874e-01 8.43653e-01 9.08548e-01 9.70337e-01 1.02881e+00 1.08376e+00 1.13501e+00 1.18238e+00 1.22570e+00\n",
    "-5.76364e-03 2.41160e-01 4.80679e-01 7.05442e-01 9.08548e-01 1.08376e+00 1.22570e+00 1.33002e+00 1.39350e+00 1.41420e+00\n",
    "-7.15410e-01 -3.33406e-01 7.69009e-02 4.80679e-01 8.43653e-01 1.13501e+00 1.33002e+00 1.41212e+00 1.37435e+00 1.21991e+00\n",
    "-1.23141e+00 -8.52877e-01 -3.33406e-01 2.41160e-01 7.75874e-01 1.18238e+00 1.39350e+00 1.37435e+00 1.12810e+00 6.95428e-01\n",
    "-1.41411e+00 -1.23141e+00 -7.15410e-01 -5.76364e-03 7.05442e-01 1.22570e+00 1.41420e+00 1.21991e+00 6.95428e-01 -1.72905e-02\n",
    "-1.21404e+00 -1.40646e+00 -1.03668e+00 -2.52510e-01 6.32599e-01 1.26484e+00 1.39149e+00 9.61919e-01 1.47843e-01 -7.25329e-01\n",
    "-6.85368e-01 -1.34910e+00 -1.26995e+00 -4.91504e-01 5.57592e-01 1.29965e+00 1.32606e+00 6.22268e-01 -4.24172e-01 -1.23704e+00\n",
    "2.88163e-02 -1.06881e+00 -1.39542e+00 -7.15410e-01 4.80679e-01 1.33002e+00 1.21991e+00 2.29793e-01 -9.26094e-01 -1.41392e+00\n",
    "7.35201e-01 -6.11896e-01 -1.40243e+00 -9.17352e-01 4.02123e-01 1.35584e+00 1.07632e+00 -1.82188e-01 -1.27498e+00 -1.20809e+00\n",
    "1.24259e+00 -5.38712e-02 -1.29039e+00 -1.09113e+00 3.22192e-01 1.37702e+00 8.99684e-01 -5.78704e-01 -1.41319e+00 -6.75262e-01"
   ]
  },
  {
   "cell_type": "markdown",
   "metadata": {
    "slideshow": {
     "slide_type": "slide"
    }
   },
   "source": [
    "### Load files"
   ]
  },
  {
   "cell_type": "code",
   "execution_count": null,
   "metadata": {
    "collapsed": false,
    "slideshow": {
     "slide_type": "-"
    }
   },
   "outputs": [],
   "source": [
    "x = np.loadtxt('x.dat')\n",
    "y = np.loadtxt('y.dat')\n",
    "z = np.loadtxt('z.dat')"
   ]
  },
  {
   "cell_type": "markdown",
   "metadata": {},
   "source": [
    "Could also save to `txt`:"
   ]
  },
  {
   "cell_type": "code",
   "execution_count": null,
   "metadata": {
    "collapsed": true
   },
   "outputs": [],
   "source": [
    "np.savetxt('x.dat',x,fmt='%.6e')"
   ]
  },
  {
   "cell_type": "code",
   "execution_count": null,
   "metadata": {
    "collapsed": false
   },
   "outputs": [],
   "source": [
    "%cat x.dat"
   ]
  },
  {
   "cell_type": "markdown",
   "metadata": {
    "slideshow": {
     "slide_type": "slide"
    }
   },
   "source": [
    "### Plot Contour"
   ]
  },
  {
   "cell_type": "code",
   "execution_count": null,
   "metadata": {
    "collapsed": false
   },
   "outputs": [],
   "source": [
    "f,ax=plt.subplots()\n",
    "c=ax.contourf(x,y,z,cmap='viridis')\n",
    "ax.set_xlabel('x')\n",
    "ax.set_ylabel('y')\n",
    "cb=plt.colorbar(c)\n",
    "cb.set_label('z');"
   ]
  }
 ],
 "metadata": {
  "celltoolbar": "Slideshow",
  "kernelspec": {
   "display_name": "Python 2",
   "language": "python",
   "name": "python2"
  },
  "language_info": {
   "codemirror_mode": {
    "name": "ipython",
    "version": 2
   },
   "file_extension": ".py",
   "mimetype": "text/x-python",
   "name": "python",
   "nbconvert_exporter": "python",
   "pygments_lexer": "ipython2",
   "version": "2.7.10"
  }
 },
 "nbformat": 4,
 "nbformat_minor": 0
}
